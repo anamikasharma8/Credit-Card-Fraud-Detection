{
 "cells": [
  {
   "cell_type": "code",
   "execution_count": 1,
   "id": "def982f7",
   "metadata": {},
   "outputs": [
    {
     "name": "stdout",
     "output_type": "stream",
     "text": [
      "Requirement already satisfied: flask in c:\\users\\sharm\\appdata\\local\\programs\\python\\python37\\lib\\site-packages (2.2.5)Note: you may need to restart the kernel to use updated packages.\n",
      "\n",
      "Requirement already satisfied: pandas in c:\\users\\sharm\\appdata\\local\\programs\\python\\python37\\lib\\site-packages (1.3.5)\n",
      "Requirement already satisfied: scikit-learn in c:\\users\\sharm\\appdata\\local\\programs\\python\\python37\\lib\\site-packages (1.0.2)\n",
      "Requirement already satisfied: joblib in c:\\users\\sharm\\appdata\\local\\programs\\python\\python37\\lib\\site-packages (1.3.2)\n",
      "Requirement already satisfied: imbalanced-learn in c:\\users\\sharm\\appdata\\local\\programs\\python\\python37\\lib\\site-packages (0.8.0)\n",
      "Requirement already satisfied: Werkzeug>=2.2.2 in c:\\users\\sharm\\appdata\\local\\programs\\python\\python37\\lib\\site-packages (from flask) (2.2.3)\n",
      "Requirement already satisfied: Jinja2>=3.0 in c:\\users\\sharm\\appdata\\local\\programs\\python\\python37\\lib\\site-packages (from flask) (3.1.3)\n",
      "Requirement already satisfied: itsdangerous>=2.0 in c:\\users\\sharm\\appdata\\local\\programs\\python\\python37\\lib\\site-packages (from flask) (2.1.2)\n",
      "Requirement already satisfied: click>=8.0 in c:\\users\\sharm\\appdata\\local\\programs\\python\\python37\\lib\\site-packages (from flask) (8.1.8)\n",
      "Requirement already satisfied: importlib-metadata>=3.6.0 in c:\\users\\sharm\\appdata\\local\\programs\\python\\python37\\lib\\site-packages (from flask) (6.7.0)\n",
      "Requirement already satisfied: python-dateutil>=2.7.3 in c:\\users\\sharm\\appdata\\local\\programs\\python\\python37\\lib\\site-packages (from pandas) (2.8.2)\n",
      "Requirement already satisfied: pytz>=2017.3 in c:\\users\\sharm\\appdata\\local\\programs\\python\\python37\\lib\\site-packages (from pandas) (2024.1)\n",
      "Requirement already satisfied: numpy>=1.17.3 in c:\\users\\sharm\\appdata\\local\\programs\\python\\python37\\lib\\site-packages (from pandas) (1.21.6)\n",
      "Requirement already satisfied: scipy>=1.1.0 in c:\\users\\sharm\\appdata\\local\\programs\\python\\python37\\lib\\site-packages (from scikit-learn) (1.7.3)\n",
      "Requirement already satisfied: threadpoolctl>=2.0.0 in c:\\users\\sharm\\appdata\\local\\programs\\python\\python37\\lib\\site-packages (from scikit-learn) (3.1.0)\n",
      "Requirement already satisfied: colorama in c:\\users\\sharm\\appdata\\local\\programs\\python\\python37\\lib\\site-packages (from click>=8.0->flask) (0.4.6)\n",
      "Requirement already satisfied: zipp>=0.5 in c:\\users\\sharm\\appdata\\local\\programs\\python\\python37\\lib\\site-packages (from importlib-metadata>=3.6.0->flask) (3.15.0)\n",
      "Requirement already satisfied: typing-extensions>=3.6.4 in c:\\users\\sharm\\appdata\\local\\programs\\python\\python37\\lib\\site-packages (from importlib-metadata>=3.6.0->flask) (4.7.1)\n",
      "Requirement already satisfied: MarkupSafe>=2.0 in c:\\users\\sharm\\appdata\\local\\programs\\python\\python37\\lib\\site-packages (from Jinja2>=3.0->flask) (2.1.5)\n",
      "Requirement already satisfied: six>=1.5 in c:\\users\\sharm\\appdata\\local\\programs\\python\\python37\\lib\\site-packages (from python-dateutil>=2.7.3->pandas) (1.16.0)\n"
     ]
    }
   ],
   "source": [
    "pip install flask pandas scikit-learn joblib imbalanced-learn\n"
   ]
  },
  {
   "cell_type": "code",
   "execution_count": 3,
   "id": "51eb648a",
   "metadata": {},
   "outputs": [
    {
     "name": "stdout",
     "output_type": "stream",
     "text": [
      "✅ Dataset balanced using SMOTE!\n",
      "✅ Model training completed!\n",
      "✅ Model saved as fraud_model_det.pkl\n"
     ]
    }
   ],
   "source": [
    "import pandas as pd\n",
    "import joblib\n",
    "from sklearn.model_selection import train_test_split\n",
    "from sklearn.ensemble import RandomForestClassifier\n",
    "from imblearn.over_sampling import SMOTE\n",
    "\n",
    "# Load dataset\n",
    "df = pd.read_csv(\"creditcard.csv\")\n",
    "\n",
    "# Split features & target\n",
    "X = df.drop(columns=[\"Class\"])\n",
    "y = df[\"Class\"]\n",
    "\n",
    "# Apply SMOTE to handle class imbalance\n",
    "smote = SMOTE(random_state=42)\n",
    "X_resampled, y_resampled = smote.fit_resample(X, y)\n",
    "\n",
    "print(\"✅ Dataset balanced using SMOTE!\")\n",
    "\n",
    "# Train-test split\n",
    "X_train, X_test, y_train, y_test = train_test_split(X_resampled, y_resampled, test_size=0.2, random_state=42)\n",
    "\n",
    "# Train the model (Random Forest)\n",
    "rf_model = RandomForestClassifier(n_estimators=100, random_state=42)\n",
    "rf_model.fit(X_train, y_train)\n",
    "\n",
    "print(\"✅ Model training completed!\")\n",
    "\n",
    "# Save the trained model\n",
    "joblib.dump(rf_model, \"fraud_model_det.pkl\")\n",
    "print(\"✅ Model saved as fraud_model_det.pkl\")\n"
   ]
  },
  {
   "cell_type": "code",
   "execution_count": null,
   "id": "9245374f",
   "metadata": {},
   "outputs": [],
   "source": []
  }
 ],
 "metadata": {
  "kernelspec": {
   "display_name": "Python 3 (ipykernel)",
   "language": "python",
   "name": "python3"
  },
  "language_info": {
   "codemirror_mode": {
    "name": "ipython",
    "version": 3
   },
   "file_extension": ".py",
   "mimetype": "text/x-python",
   "name": "python",
   "nbconvert_exporter": "python",
   "pygments_lexer": "ipython3",
   "version": "3.7.4"
  }
 },
 "nbformat": 4,
 "nbformat_minor": 5
}
